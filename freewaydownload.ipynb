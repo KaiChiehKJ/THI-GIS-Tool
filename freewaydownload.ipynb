{
 "cells": [
  {
   "cell_type": "code",
   "execution_count": 1,
   "metadata": {},
   "outputs": [],
   "source": [
    "import os \n",
    "import pandas "
   ]
  },
  {
   "cell_type": "code",
   "execution_count": 4,
   "metadata": {},
   "outputs": [],
   "source": [
    "def downloadfile(downloadpath, url):\n",
    "    import requests\n",
    "    # 發送 HTTP 請求，獲取 XML 資料\n",
    "    response = requests.get(url)\n",
    "    \n",
    "    # 如果請求成功（狀態碼為 200），則寫入檔案\n",
    "    if response.status_code == 200:\n",
    "        with open(downloadpath, 'wb') as file:\n",
    "            file.write(response.content)\n",
    "        print(f\"XML 檔案已成功下載到 {downloadpath}\")\n",
    "    else:\n",
    "        print(f\"請求失敗，狀態碼：{response.status_code}\")"
   ]
  },
  {
   "cell_type": "code",
   "execution_count": null,
   "metadata": {},
   "outputs": [
    {
     "name": "stdout",
     "output_type": "stream",
     "text": [
      "XML 檔案已成功下載到 VD.xml\n"
     ]
    }
   ],
   "source": [
    "\n",
    "\n",
    "# 使用方法\n",
    "url = \"https://tisvcloud.freeway.gov.tw/history/motc20/VD.xml\"\n",
    "downloadpath = \"VD.xml\"  # 可以根據需要修改下載的路徑和檔案名稱\n",
    "downloadfile(downloadpath, url)\n"
   ]
  }
 ],
 "metadata": {
  "kernelspec": {
   "display_name": "Python 3",
   "language": "python",
   "name": "python3"
  },
  "language_info": {
   "codemirror_mode": {
    "name": "ipython",
    "version": 3
   },
   "file_extension": ".py",
   "mimetype": "text/x-python",
   "name": "python",
   "nbconvert_exporter": "python",
   "pygments_lexer": "ipython3",
   "version": "3.9.6"
  }
 },
 "nbformat": 4,
 "nbformat_minor": 2
}
