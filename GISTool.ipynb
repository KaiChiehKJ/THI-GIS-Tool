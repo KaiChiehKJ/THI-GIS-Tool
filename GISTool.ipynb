{
 "cells": [
  {
   "cell_type": "code",
   "execution_count": 3,
   "metadata": {},
   "outputs": [],
   "source": [
    "import pandas as pd\n",
    "from gisshape import get_OD_line_shp"
   ]
  },
  {
   "cell_type": "code",
   "execution_count": 4,
   "metadata": {},
   "outputs": [],
   "source": [
    "df = []\n",
    "cvp = pd.read_csv(r\"C:\\THI_workspace\\6731\\信令資料\\CVP資料\\CVP資料\\桃園整規CVP旅次資料\\20210331旅次數_上午.csv\")\n",
    "df.append(cvp)\n",
    "cvp = pd.read_csv(r\"C:\\THI_workspace\\6731\\信令資料\\CVP資料\\CVP資料\\桃園整規CVP旅次資料\\20210401旅次數_上午.csv\")\n",
    "df.append(cvp)\n",
    "cvp = pd.concat(df)\n",
    "\n",
    "xy = pd.read_excel(r\"C:\\Users\\kjchang\\Downloads\\15附錄四、交通分區表 (2)-converted (1).xlsx\", sheet_name= 'GIS_縣市鄉鎮市區')\n",
    "xy = xy[['ID','X', 'Y']].drop_duplicates()\n",
    "cvp = pd.merge(pd.merge(cvp, xy , left_on = 'o', right_on='ID'),xy , left_on = 'd', right_on='ID', suffixes=['_o','_d'])"
   ]
  },
  {
   "cell_type": "code",
   "execution_count": 5,
   "metadata": {},
   "outputs": [],
   "source": [
    "o_col = 'o'\n",
    "d_col = 'd'\n",
    "o_x_col = 'X_o'\n",
    "o_y_col = 'Y_o'\n",
    "d_x_col = 'X_d'\n",
    "d_y_col = 'Y_d'\n",
    "count_col = 'trip'\n",
    "date_col = 'date'\n"
   ]
  },
  {
   "cell_type": "code",
   "execution_count": 16,
   "metadata": {},
   "outputs": [],
   "source": [
    "gdf = get_OD_line_shp(df = cvp, o_col =o_col , d_col = d_col , o_x_col = o_x_col, o_y_col = o_y_col , d_x_col = d_x_col , d_y_col = d_y_col ,\n",
    " count_col = count_col, date_col = date_col, how = 'countd' ,combine = True )\n",
    "gdf = gdf.iloc[:100,:]"
   ]
  },
  {
   "cell_type": "code",
   "execution_count": null,
   "metadata": {},
   "outputs": [],
   "source": []
  }
 ],
 "metadata": {
  "kernelspec": {
   "display_name": "Python 3",
   "language": "python",
   "name": "python3"
  },
  "language_info": {
   "codemirror_mode": {
    "name": "ipython",
    "version": 3
   },
   "file_extension": ".py",
   "mimetype": "text/x-python",
   "name": "python",
   "nbconvert_exporter": "python",
   "pygments_lexer": "ipython3",
   "version": "3.11.9"
  }
 },
 "nbformat": 4,
 "nbformat_minor": 2
}
